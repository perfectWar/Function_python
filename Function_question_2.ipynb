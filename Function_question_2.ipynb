{
 "cells": [
  {
   "cell_type": "code",
   "execution_count": 3,
   "id": "caab42ae",
   "metadata": {},
   "outputs": [
    {
     "data": {
      "text/plain": [
       "[69.8, 73.4, 64.4, 71.6, 66.2, 93.2, 75.2, 95.0]"
      ]
     },
     "execution_count": 3,
     "metadata": {},
     "output_type": "execute_result"
    }
   ],
   "source": [
    "'''Assume below list having temperature in Celsius convert in to Fahrenheit (use lambda function\n",
    "with map function)\n",
    "i. Amount = [21,23,18,22,19,34,24,35]'''\n",
    "\n",
    "Amount = [21,23,18,22,19,34,24,35] #list\n",
    "#map function contain lambda function which returns the value of celsius to fahrenheit and parameter list \n",
    "#further converted in the list\n",
    "result = list(map(lambda x: (x*9/5)+32,Amount)) \n",
    "result #printing the result"
   ]
  },
  {
   "cell_type": "code",
   "execution_count": 10,
   "id": "a2c1c0e6",
   "metadata": {},
   "outputs": [
    {
     "data": {
      "text/plain": [
       "[4000, 5, 8, 95]"
      ]
     },
     "execution_count": 10,
     "metadata": {},
     "output_type": "execute_result"
    }
   ],
   "source": [
    "'''2. Remove the out of sequence number in below list (sequence is 25 to 40)\n",
    "3. [25, 28,26,4000,27, 31, 5,28,29,30,34,8,32,33, 35, 32,37,36, 40,38,39, 95]'''\n",
    "\n",
    "MyList = [25, 28,26,4000,27, 31, 5,28,29,30,34,8,32,33, 35, 32,37,36, 40,38,39, 95] #list\n",
    "#filter question return the value which are true in the condition, lambda question returning the value\n",
    "# which are not in the range of 25 to 40 and a parameter list and further converted into list\n",
    "result = list(filter(lambda x: x not in range(25,41),MyList))\n",
    "result #printing the result "
   ]
  },
  {
   "cell_type": "code",
   "execution_count": 19,
   "id": "0f9ca05b",
   "metadata": {},
   "outputs": [
    {
     "name": "stdout",
     "output_type": "stream",
     "text": [
      "Enter the number you want element in list : 3\n",
      "Enter the number : 2\n",
      "Enter the number : 2\n",
      "Enter the number : 4\n",
      "[2, 4]\n"
     ]
    }
   ],
   "source": [
    "'''Program should add value to list, if the same number given again don’t add to list (don’t use set)'''\n",
    "\n",
    "def unique_value_list(lst,value): #function\n",
    "    if value not in lst: #condition for value not in list then append\n",
    "        lst.append(value) #mutable so can be changed in original one\n",
    "lst = [] #list\n",
    "num = int(input(\"Enter the number you want element in list : \")) #user input\n",
    "for i in range(num): #loop till user request\n",
    "    flag = int(input(\"Enter the number : \")) #input from the user to insert in list\n",
    "    unique_value_list(lst,flag) #Function call no repeated value be inserted \n",
    "print(lst) #printing the result "
   ]
  },
  {
   "cell_type": "code",
   "execution_count": 16,
   "id": "b5362c48",
   "metadata": {},
   "outputs": [
    {
     "data": {
      "text/plain": [
       "[1, 2, 3, 4]"
      ]
     },
     "execution_count": 16,
     "metadata": {},
     "output_type": "execute_result"
    }
   ],
   "source": [
    "'''Remove duplicate elements in the list , don’t use “set” function write your own code'''\n",
    "def remove_element(lst): # function\n",
    "    new_lst = [] # new list for no duplicate values\n",
    "    for i in lst: #loop for in list\n",
    "        if i not in new_lst: #checking the element already represent in list or not if not then added \n",
    "            new_lst.append(i)\n",
    "    return new_lst #returning the new list\n",
    "lst = [1,2,3,4,1,2,3,4] # list \n",
    "remove_element(lst) # calling the function and printing the result "
   ]
  },
  {
   "cell_type": "code",
   "execution_count": 18,
   "id": "eb74c255",
   "metadata": {},
   "outputs": [
    {
     "name": "stdout",
     "output_type": "stream",
     "text": [
      "True\n",
      "False\n"
     ]
    }
   ],
   "source": [
    "'''Write a program to find given string is Palindrome or Not (write a function pass the string to\n",
    "function , and get return True if string is Palindrome, return False if string is not Palindrome )'''\n",
    "def check_palindrome(string): #function\n",
    "    count = 0 #count variable for number of count\n",
    "    for i in range(len(string)): #loop for string \n",
    "        if string[i] == string[len(string) - i -1]: #checking the first and last element of string\n",
    "            count+=1 #if same count increament by one\n",
    "    if count == len(string): #if count equal to length of string it is palindrome \n",
    "        return True \n",
    "    return False #else not palindrome\n",
    "\n",
    "print(check_palindrome(\"naman\")) #calling the function to check\n",
    "print(check_palindrome(\"yash\"))"
   ]
  },
  {
   "cell_type": "code",
   "execution_count": null,
   "id": "db4d54e2",
   "metadata": {},
   "outputs": [],
   "source": []
  }
 ],
 "metadata": {
  "kernelspec": {
   "display_name": "Python 3 (ipykernel)",
   "language": "python",
   "name": "python3"
  },
  "language_info": {
   "codemirror_mode": {
    "name": "ipython",
    "version": 3
   },
   "file_extension": ".py",
   "mimetype": "text/x-python",
   "name": "python",
   "nbconvert_exporter": "python",
   "pygments_lexer": "ipython3",
   "version": "3.10.9"
  }
 },
 "nbformat": 4,
 "nbformat_minor": 5
}
