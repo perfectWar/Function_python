{
 "cells": [
  {
   "cell_type": "code",
   "execution_count": 1,
   "id": "4bc3e71c",
   "metadata": {},
   "outputs": [
    {
     "data": {
      "text/plain": [
       "17"
      ]
     },
     "execution_count": 1,
     "metadata": {},
     "output_type": "execute_result"
    }
   ],
   "source": [
    "'''write a python program to create a lambda function that adds 15 to a given number passed in as an argument'''\n",
    "flag = lambda a: a+15\n",
    "flag(2)"
   ]
  },
  {
   "cell_type": "code",
   "execution_count": 2,
   "id": "2f6083e1",
   "metadata": {},
   "outputs": [
    {
     "data": {
      "text/plain": [
       "6"
      ]
     },
     "execution_count": 2,
     "metadata": {},
     "output_type": "execute_result"
    }
   ],
   "source": [
    "'''write a python program to create a lambda function that multiplies argument x with argument y and prints the result'''\n",
    "flag = lambda x,y: x*y\n",
    "flag(2,3)"
   ]
  },
  {
   "cell_type": "code",
   "execution_count": 4,
   "id": "82be3a09",
   "metadata": {},
   "outputs": [
    {
     "data": {
      "text/plain": [
       "30"
      ]
     },
     "execution_count": 4,
     "metadata": {},
     "output_type": "execute_result"
    }
   ],
   "source": [
    "'''write a python program to create a lambda function to create a function that takes one agrument, \n",
    "and that argument will be multiplied with an unknown given number'''\n",
    "def compute(n):\n",
    "    return lambda x: x*n\n",
    "result = compute(2)\n",
    "a = result(15)\n",
    "a"
   ]
  },
  {
   "cell_type": "code",
   "execution_count": 7,
   "id": "ac1536c2",
   "metadata": {},
   "outputs": [
    {
     "data": {
      "text/plain": [
       "True"
      ]
     },
     "execution_count": 7,
     "metadata": {},
     "output_type": "execute_result"
    }
   ],
   "source": [
    "'''write a python program to find if a given string strats with a given character using lambda'''\n",
    "X = lambda x,c: True if x[0] == c else False\n",
    "X('Water','W')"
   ]
  },
  {
   "cell_type": "code",
   "execution_count": 11,
   "id": "6513eba1",
   "metadata": {},
   "outputs": [
    {
     "data": {
      "text/plain": [
       "True"
      ]
     },
     "execution_count": 11,
     "metadata": {},
     "output_type": "execute_result"
    }
   ],
   "source": [
    "'''given string is a number or not '''\n",
    "x = lambda num: num.isdigit()\n",
    "x('4')"
   ]
  },
  {
   "cell_type": "markdown",
   "id": "507c4ea6",
   "metadata": {},
   "source": [
    "# Map Function"
   ]
  },
  {
   "cell_type": "code",
   "execution_count": 12,
   "id": "f83b2a04",
   "metadata": {},
   "outputs": [
    {
     "data": {
      "text/plain": [
       "[3, 6, 9, 12, 15, 18]"
      ]
     },
     "execution_count": 12,
     "metadata": {},
     "output_type": "execute_result"
    }
   ],
   "source": [
    "'''triple all the number in the list'''\n",
    "nums = [1,2,3,4,5,6]\n",
    "result = list(map(lambda x: x+x+x, nums))\n",
    "result"
   ]
  },
  {
   "cell_type": "code",
   "execution_count": 14,
   "id": "a04d1064",
   "metadata": {},
   "outputs": [
    {
     "data": {
      "text/plain": [
       "[6, 9, 12, 15]"
      ]
     },
     "execution_count": 14,
     "metadata": {},
     "output_type": "execute_result"
    }
   ],
   "source": [
    "'''add three given list'''\n",
    "num1 = [1,2,3,4]\n",
    "num2 = [2,3,4,5]\n",
    "num3 = [3,4,5,6]\n",
    "result = list(map(lambda x,y,z: x+y+z, num1,num2,num3))\n",
    "result"
   ]
  },
  {
   "cell_type": "code",
   "execution_count": 18,
   "id": "f165c43d",
   "metadata": {},
   "outputs": [
    {
     "data": {
      "text/plain": [
       "[['a', 'p', 'p', 'l', 'e'], ['b', 'a', 'n', 'a', 'n', 'a']]"
      ]
     },
     "execution_count": 18,
     "metadata": {},
     "output_type": "execute_result"
    }
   ],
   "source": [
    "'''listfy the list'''\n",
    "l=['apple','banana']\n",
    "result = list(map(lambda x: [i for i in x],l))\n",
    "result"
   ]
  },
  {
   "cell_type": "code",
   "execution_count": 21,
   "id": "4a87f04f",
   "metadata": {},
   "outputs": [
    {
     "data": {
      "text/plain": [
       "[(3, -1), (5, -1), (7, -1), (9, -1), (11, -1)]"
      ]
     },
     "execution_count": 21,
     "metadata": {},
     "output_type": "execute_result"
    }
   ],
   "source": [
    "'''addition and subtraction of list'''\n",
    "l=[1,2,3,4,5]\n",
    "l2=[2,3,4,5,6]\n",
    "def add_sub(l,l2):\n",
    "    return l+l2, l-l2\n",
    "result = list(map(add_sub,l, l2))\n",
    "result"
   ]
  },
  {
   "cell_type": "code",
   "execution_count": 34,
   "id": "6b42df54",
   "metadata": {},
   "outputs": [
    {
     "data": {
      "text/plain": [
       "[1, 4, 9, 16]"
      ]
     },
     "execution_count": 34,
     "metadata": {},
     "output_type": "execute_result"
    }
   ],
   "source": [
    "'''square the element of list'''\n",
    "l = [1,2,3,4]\n",
    "result = list(map(lambda x: x**2,l))\n",
    "result"
   ]
  },
  {
   "cell_type": "markdown",
   "id": "13f4834d",
   "metadata": {},
   "source": [
    "# Filter function "
   ]
  },
  {
   "cell_type": "markdown",
   "id": "59f3d1a3",
   "metadata": {},
   "source": []
  },
  {
   "cell_type": "code",
   "execution_count": 35,
   "id": "8eebdc00",
   "metadata": {},
   "outputs": [
    {
     "data": {
      "text/plain": [
       "[1, 3, 5, 7, 9]"
      ]
     },
     "execution_count": 35,
     "metadata": {},
     "output_type": "execute_result"
    }
   ],
   "source": [
    "'''Odd numbers'''\n",
    "l = [x for x in range(11)]\n",
    "result = list(filter(lambda x: x%2!=0, l))\n",
    "result"
   ]
  },
  {
   "cell_type": "code",
   "execution_count": 37,
   "id": "e70f90fc",
   "metadata": {},
   "outputs": [
    {
     "data": {
      "text/plain": [
       "['H', 'Y']"
      ]
     },
     "execution_count": 37,
     "metadata": {},
     "output_type": "execute_result"
    }
   ],
   "source": [
    "'''Uppercase in string'''\n",
    "a = \"HappY\"\n",
    "result = list(filter(lambda char: char.isupper(),a))\n",
    "result"
   ]
  },
  {
   "cell_type": "code",
   "execution_count": 41,
   "id": "18595c63",
   "metadata": {},
   "outputs": [
    {
     "data": {
      "text/plain": [
       "['Elite', 'Ayudhya']"
      ]
     },
     "execution_count": 41,
     "metadata": {},
     "output_type": "execute_result"
    }
   ],
   "source": [
    "'''list which start with vowels '''\n",
    "a = ['Elite',\"Ayudhya\",\"happy\",\"sad\"]\n",
    "result = list(filter(lambda x: x[0].lower() in ['a','e','i','o','u'],a))\n",
    "result"
   ]
  },
  {
   "cell_type": "code",
   "execution_count": 42,
   "id": "da6f7ef3",
   "metadata": {},
   "outputs": [
    {
     "data": {
      "text/plain": [
       "[2, 3, 5, 7]"
      ]
     },
     "execution_count": 42,
     "metadata": {},
     "output_type": "execute_result"
    }
   ],
   "source": [
    "'''prime numbers'''\n",
    "def is_prime(n):\n",
    "    if n <= 1:\n",
    "        return False\n",
    "    if n <= 3:\n",
    "        return True\n",
    "    if n%2==0 or n%3==0:\n",
    "        return False\n",
    "    i = 5\n",
    "    while i*i <=n:\n",
    "        if n%i == 0 or n%(i+2) ==0:\n",
    "            return False\n",
    "        i += 6\n",
    "    return True\n",
    "num = [x for x in range(11)]\n",
    "result = list(filter(is_prime, num))\n",
    "result"
   ]
  },
  {
   "cell_type": "code",
   "execution_count": null,
   "id": "7627a85c",
   "metadata": {},
   "outputs": [],
   "source": []
  }
 ],
 "metadata": {
  "kernelspec": {
   "display_name": "Python 3 (ipykernel)",
   "language": "python",
   "name": "python3"
  },
  "language_info": {
   "codemirror_mode": {
    "name": "ipython",
    "version": 3
   },
   "file_extension": ".py",
   "mimetype": "text/x-python",
   "name": "python",
   "nbconvert_exporter": "python",
   "pygments_lexer": "ipython3",
   "version": "3.10.9"
  }
 },
 "nbformat": 4,
 "nbformat_minor": 5
}
