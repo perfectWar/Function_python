{
 "cells": [
  {
   "cell_type": "code",
   "execution_count": 7,
   "id": "6352931a",
   "metadata": {},
   "outputs": [
    {
     "name": "stdout",
     "output_type": "stream",
     "text": [
      "xxxxx\n"
     ]
    }
   ],
   "source": [
    "'''Define a function generate_n_chars() that takes an integer n and a character c and returns a string, n\n",
    "characters long, consisting only of c:s. For example, generate_n_chars(5,\"x\") should return the string\n",
    "\"xxxxx\". (Python is unusual in that you can actually write an expression 5 * \"x\" that will evaluate to\n",
    "\"xxxxx\". For the sake of the exercise you should ignore that the problem can be solved in this\n",
    "manner.)'''\n",
    "def generate_n_char(num,char): # function \n",
    "    out = '' #string \n",
    "    for i in range(num): # loop for adding the string to n number of times \n",
    "        out+=char\n",
    "    return out #return the result of out\n",
    "print(generate_n_char(5,'x'))#calling the function as well as printing"
   ]
  },
  {
   "cell_type": "code",
   "execution_count": 11,
   "id": "ef0090a0",
   "metadata": {},
   "outputs": [
    {
     "name": "stdout",
     "output_type": "stream",
     "text": [
      "Enter a number of element you want in list : 3\n",
      "Enter the number 1 : 12\n",
      "Enter the number 2 : 32\n",
      "Enter the number 3 : 34\n",
      "Maximum number in the list is : 34\n"
     ]
    }
   ],
   "source": [
    "'''The function max() from exercise 1) and the function max_of_three() from exercise 2) will only\n",
    "work for two and three numbers, respectively. But suppose we have a much larger number of\n",
    "numbers, or suppose we cannot tell in advance how many they are? Write a function max_in_list()\n",
    "that takes a list of numbers and returns the largest one.'''\n",
    "def max_in_list(numbers): #function \n",
    "    if len(numbers)==0: #contion if the list is empty return None\n",
    "        return None\n",
    "    else: \n",
    "        max_num = numbers[0] #assuming the first element as maximum\n",
    "        for i in numbers: #loop in the list\n",
    "            if i > max_num: #checking for greater value from current value if get store in the variable of maximum\n",
    "                max_num = i\n",
    "    return max_num #returning the maximum value\n",
    "\n",
    "num = int(input(\"Enter a number of element you want in list : \")) #taking input len of list\n",
    "numbers = [] #empty list\n",
    "for i in range(0,num): # loop for taking the inputs of elements in lists\n",
    "    a = int(input(f\"Enter the number {i+1} : \"))\n",
    "    numbers.append(a) # adding the element one by one to the list\n",
    "result = max_in_list(numbers) # calling the function and store to a variable \n",
    "print(f\"Maximum number in the list is : {result}\") #printing the result "
   ]
  },
  {
   "cell_type": "code",
   "execution_count": 10,
   "id": "d3bf7ef8",
   "metadata": {},
   "outputs": [
    {
     "name": "stdout",
     "output_type": "stream",
     "text": [
      "[5, 6, 3, 4, 3, 6]\n"
     ]
    }
   ],
   "source": [
    "'''Write a program that maps a list of words into a list of integers representing the lengths of the\n",
    "correponding words.'''\n",
    "#list of words -> list of integer \n",
    "def list_to_word(words): #function \n",
    "    num = [] #empty list \n",
    "    for i in words: #loop for element in lists\n",
    "        num.append(len(i)) #added len of words to new list\n",
    "    return num #returning the resultant list\n",
    "words = ['happy','mitali','him','shiv','div','gaurav'] #list with words \n",
    "print(list_to_word(words)) #printing the result with call the function"
   ]
  },
  {
   "cell_type": "code",
   "execution_count": 16,
   "id": "824d248a",
   "metadata": {},
   "outputs": [
    {
     "name": "stdout",
     "output_type": "stream",
     "text": [
      "6\n"
     ]
    }
   ],
   "source": [
    "'''Write a function find_longest_word() that takes a list of words and returns the length of the longest\n",
    "one. Modify the same to do with lambda expression.'''\n",
    "def find_longest_word(words): #function \n",
    "    for i in words: #loop for element in lists\n",
    "        max_len = len(words[0]) #assuming the length of first element is longest \n",
    "        if len(i) > max_len: #checking if the remaining elements of list have longest length \n",
    "            max_len = len(i) \n",
    "    return max_len #returning the longest string length\n",
    "words = ['happy','mitali','him','shiv','div','gaurav'] #list with words \n",
    "print(find_longest_word(words)) #printing the longest length of string by calling the function "
   ]
  },
  {
   "cell_type": "code",
   "execution_count": 41,
   "id": "667606fd",
   "metadata": {},
   "outputs": [
    {
     "name": "stdout",
     "output_type": "stream",
     "text": [
      "['happy', 'mitali', 'him', 'shiv', 'div', 'gaurav']\n"
     ]
    }
   ],
   "source": [
    "'''By lambda function'''\n",
    "words = ['happy','mitali','him','shiv','div','gaurav'] #list with words \n",
    "#lambda function for parameter words as list, max() for maximum value of string length, loop for each element in list\n",
    "result = lambda words: max(len(x) for x in words)\n",
    "print(result(words))#calling the function and printing the result "
   ]
  },
  {
   "cell_type": "code",
   "execution_count": 23,
   "id": "b835678b",
   "metadata": {},
   "outputs": [
    {
     "name": "stdout",
     "output_type": "stream",
     "text": [
      "['happy', 'mitali', 'gaurav']\n"
     ]
    }
   ],
   "source": [
    "'''Write a function filter_long_words() that takes a list of words and an integer n and returns the list\n",
    "of words that are longer than n. Modify the same to do with lambda expression.'''\n",
    "def filter_long_words(words,num): #function \n",
    "    return [word for word in words if len(word) > num] #list comprehension for list of element which length is greater than num\n",
    "words = ['happy','mitali','him','shiv','div','gaurav'] #list with words \n",
    "print(filter_long_words(words,4)) #printing the resultant list by calling the function"
   ]
  },
  {
   "cell_type": "code",
   "execution_count": 28,
   "id": "cb45683f",
   "metadata": {},
   "outputs": [
    {
     "name": "stdout",
     "output_type": "stream",
     "text": [
      "['happy', 'mitali', 'shiv', 'gaurav']\n"
     ]
    }
   ],
   "source": [
    "'''by using lambda function'''\n",
    "words = ['happy','mitali','him','shiv','div','gaurav'] #list with words \n",
    "result = lambda word,num: [i for i in word if len(i) > num] #list of string which are greater than num \n",
    "print(result(words,3)) #calling the lambda function"
   ]
  },
  {
   "cell_type": "code",
   "execution_count": 35,
   "id": "c07a7735",
   "metadata": {},
   "outputs": [
    {
     "name": "stdout",
     "output_type": "stream",
     "text": [
      "['god', 'jul']\n"
     ]
    }
   ],
   "source": [
    "'''Represent a small bilingual lexicon as a Python dictionary in the following fashion {\"merry\":\"god\",\n",
    "\"christmas\":\"jul\", \"and\":\"och\", \"happy\":gott\", \"new\":\"nytt\", \"year\":\"år\"} and use it to translate your\n",
    "Christmas cards from English into Swedish. That is, write a function translate() that takes a list of\n",
    "English words and returns a list of Swedish words.'''\n",
    "def translate(english,swedish): #function\n",
    "    words = [] #empty list\n",
    "    for i in english: #loop for list of elements in english\n",
    "        #get function to match the key element and return the value, 2 argument is to key and value\n",
    "        #if not present created one place.\n",
    "        trans = swedish.get(i,i) \n",
    "        words.append(trans) #adding to the new list\n",
    "    return words\n",
    "bilingual_lexicon = { \n",
    "    \"merry\":\"god\",\n",
    "    \"christmas\":\"jul\",\n",
    "    \"and\" : \"och\",\n",
    "    \"happy\":\"gott\",\n",
    "    \"new\":\"nytt\",\n",
    "    \"year\":\"ar\"\n",
    "} #dictionary \n",
    "english = [\"merry\",\"christmas\"] #list of english words \n",
    "print(translate(english,bilingual_lexicon))"
   ]
  },
  {
   "cell_type": "code",
   "execution_count": 38,
   "id": "8c9aeeba",
   "metadata": {},
   "outputs": [
    {
     "name": "stdout",
     "output_type": "stream",
     "text": [
      "{'a': 7, 'b': 14, 'c': 3, 'd': 3}\n"
     ]
    }
   ],
   "source": [
    "'''Write a function char_freq() that takes a string and builds a frequency listing of the characters\n",
    "contained in it. Represent the frequency listing as a Python dictionary. Try it with something\n",
    "likechar_freq(\"abbabcbdbabdbdbabababcbcbab\").'''\n",
    "def char_feq(string): #function\n",
    "    freq = {} #dictionary \n",
    "    for i in string: #loop for string\n",
    "        if i in freq: #check the element present in dictionary if yes then add by 1\n",
    "            freq[i] += 1\n",
    "        else: #if not then make of place with value 1\n",
    "            freq[i] = 1\n",
    "    return freq #return the dictionary\n",
    "print(char_feq(\"abbabcbdbabdbdbabababcbcbab\")) #calling the function and printing the result "
   ]
  },
  {
   "cell_type": "code",
   "execution_count": null,
   "id": "fa5e1f93",
   "metadata": {},
   "outputs": [],
   "source": []
  }
 ],
 "metadata": {
  "kernelspec": {
   "display_name": "Python 3 (ipykernel)",
   "language": "python",
   "name": "python3"
  },
  "language_info": {
   "codemirror_mode": {
    "name": "ipython",
    "version": 3
   },
   "file_extension": ".py",
   "mimetype": "text/x-python",
   "name": "python",
   "nbconvert_exporter": "python",
   "pygments_lexer": "ipython3",
   "version": "3.10.9"
  }
 },
 "nbformat": 4,
 "nbformat_minor": 5
}
